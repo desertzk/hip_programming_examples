{
 "cells": [
  {
   "cell_type": "code",
   "execution_count": null,
   "metadata": {},
   "outputs": [],
   "source": [
    "import os\n",
    "import subprocess"
   ]
  },
  {
   "cell_type": "code",
   "execution_count": null,
   "metadata": {},
   "outputs": [],
   "source": [
    "# Run make\n",
    "subprocess.run(['make'], check=True)"
   ]
  },
  {
   "cell_type": "code",
   "execution_count": null,
   "metadata": {},
   "outputs": [],
   "source": [
    "num_threads = [x for x in range(1, 20000)]\n",
    "\n",
    "# Run the program with each number of threads and capture the output.\n",
    "# This cell may run for a few hours.\n",
    "results = []\n",
    "for num_thread in num_threads:\n",
    "    output = subprocess.check_output(\n",
    "        ['./main', '100000000', 'parallel', str(num_thread)]\n",
    "    )\n",
    "    results.append(output)\n",
    "print(results)"
   ]
  },
  {
   "cell_type": "code",
   "execution_count": null,
   "metadata": {},
   "outputs": [],
   "source": [
    "# Parse the output using regex to capture the time printed in the format of \n",
    "# Time = x,xxx,xxx ns\n",
    "import re\n",
    "\n",
    "time_regex = b'Time = ([\\d,]+) ns'\n",
    "time_results = []\n",
    "for result in results:\n",
    "    match = re.search(time_regex, result)\n",
    "    res_str = match.group(1)\n",
    "    res_int = int(res_str.replace(b',', b''))\n",
    "    res_int = res_int / 1000000000\n",
    "    time_results.append(res_int)\n",
    "    \n",
    "print(time_results)"
   ]
  },
  {
   "cell_type": "code",
   "execution_count": null,
   "metadata": {},
   "outputs": [],
   "source": [
    "import seaborn as sns\n",
    "import matplotlib.pyplot as plt\n"
   ]
  },
  {
   "cell_type": "code",
   "execution_count": null,
   "metadata": {},
   "outputs": [],
   "source": [
    "fig, ax = plt.subplots(figsize=(6, 3))\n",
    "\n",
    "plt.grid(True, which='both', color=\"0.9\", ls=\"--\")\n",
    "\n",
    "ax.plot(num_threads, time_results,\n",
    "    marker='o', markersize=6, markevery=4,\n",
    "    lw=2, ls='--', color='b')\n",
    "ax.set_ylabel('Time (s)')\n",
    "ax.set_xlabel('Number of threads')\n",
    "\n",
    "ax.set_xlim([1, 50])\n",
    "ax.set_xticks([1, 4, 8, 16, 24, 32, 40, 48])\n",
    "\n",
    "ax.set_yscale('log')\n",
    "ax.set_yticks([0.05, 0.1, 0.2, 0.3, 0.5, 1, 2])\n",
    "ax.set_yticklabels([0.05, 0.1, 0.2, 0.3, 0.5, 1, 2])\n",
    "\n",
    "plt.savefig('perf.pdf', bbox_inches='tight')"
   ]
  },
  {
   "cell_type": "code",
   "execution_count": null,
   "metadata": {},
   "outputs": [],
   "source": [
    "fig, ax = plt.subplots(figsize=(6, 3))\n",
    "\n",
    "plt.grid(True, which='both', color=\"0.9\", ls=\"--\")\n",
    "\n",
    "ax.plot(num_threads, time_results,\n",
    "    # marker='o', markersize=6, markevery=600,\n",
    "    lw=2, ls='--', color='b')\n",
    "ax.set_ylabel('Time (s)')\n",
    "ax.set_xlabel('Number of threads')\n",
    "\n",
    "ax.set_xlim([1, 500])\n",
    "# ax.set_xticks([1, 4, 8, 16, 24, 32, 40, 48])\n",
    "\n",
    "ax.set_yscale('log')\n",
    "ax.set_yticks([0.05, 0.1, 0.2, 0.3, 0.5, 1, 2])\n",
    "ax.set_yticklabels([0.05, 0.1, 0.2, 0.3, 0.5, 1, 2])\n",
    "\n",
    "plt.savefig('perf_extend.pdf', bbox_inches='tight')\n",
    "\n"
   ]
  },
  {
   "cell_type": "code",
   "execution_count": null,
   "metadata": {},
   "outputs": [],
   "source": [
    "fig, ax = plt.subplots(figsize=(6, 3))\n",
    "\n",
    "plt.grid(True, which='both', color=\"0.9\", ls=\"--\")\n",
    "\n",
    "ax.plot(num_threads, time_results,\n",
    "    # marker='o', markersize=6, markevery=600,\n",
    "    lw=2, ls='--', color='b')\n",
    "ax.set_ylabel('Time (s)')\n",
    "ax.set_xlabel('Number of threads')\n",
    "\n",
    "ax.set_xlim([0, 5000])\n",
    "# ax.set_xticks([1, 4, 8, 16, 24, 32, 40, 48])\n",
    "\n",
    "ax.set_yscale('log')\n",
    "ax.set_yticks([0.05, 0.1, 0.2, 0.3, 0.5, 1, 2])\n",
    "ax.set_yticklabels([0.05, 0.1, 0.2, 0.3, 0.5, 1, 2])\n",
    "\n",
    "plt.savefig('perf_extend2.pdf', bbox_inches='tight')\n"
   ]
  },
  {
   "cell_type": "code",
   "execution_count": null,
   "metadata": {},
   "outputs": [],
   "source": []
  }
 ],
 "metadata": {
  "kernelspec": {
   "display_name": "Python 3.9.7 ('base')",
   "language": "python",
   "name": "python3"
  },
  "language_info": {
   "codemirror_mode": {
    "name": "ipython",
    "version": 3
   },
   "file_extension": ".py",
   "mimetype": "text/x-python",
   "name": "python",
   "nbconvert_exporter": "python",
   "pygments_lexer": "ipython3",
   "version": "3.9.7"
  },
  "orig_nbformat": 4,
  "vscode": {
   "interpreter": {
    "hash": "52b83aaee96c895cee77bd724eacd0ad739296f838735dc938f60b945c08f84a"
   }
  }
 },
 "nbformat": 4,
 "nbformat_minor": 2
}
